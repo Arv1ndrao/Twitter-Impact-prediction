{
 "cells": [
  {
   "cell_type": "code",
   "execution_count": 16,
   "metadata": {
    "id": "N2c_DDjO08yA"
   },
   "outputs": [],
   "source": [
    "from warnings import filterwarnings\n",
    "filterwarnings('ignore')\n",
    "\n",
    "import numpy as np\n",
    "import pandas as pd\n",
    "import matplotlib.pyplot as plt\n",
    "import seaborn as sns\n",
    "from sklearn.preprocessing import StandardScaler\n",
    "from sklearn.metrics import mean_squared_error, mean_absolute_error\n",
    "\n",
    "from sklearn.model_selection import cross_val_score\n",
    "from sklearn.model_selection import KFold\n",
    "from sklearn.pipeline import Pipeline\n",
    "from sklearn.model_selection import train_test_split"
   ]
  },
  {
   "cell_type": "code",
   "execution_count": 3,
   "metadata": {
    "id": "FDQr6PD22KjH"
   },
   "outputs": [],
   "source": [
    "import tensorflow as tf\n",
    "from tensorflow import keras\n",
    "from keras.models import Sequential\n",
    "from keras.layers import Dense"
   ]
  },
  {
   "cell_type": "code",
   "execution_count": null,
   "metadata": {
    "id": "jzEqzM8q09HH"
   },
   "outputs": [],
   "source": []
  },
  {
   "cell_type": "code",
   "execution_count": 9,
   "metadata": {
    "colab": {
     "base_uri": "https://localhost:8080/",
     "height": 221
    },
    "id": "tM3Odrg0zlKO",
    "outputId": "1060316d-c08a-4e85-f312-8a9d09cd01ca"
   },
   "outputs": [
    {
     "data": {
      "text/html": [
       "<div>\n",
       "<style scoped>\n",
       "    .dataframe tbody tr th:only-of-type {\n",
       "        vertical-align: middle;\n",
       "    }\n",
       "\n",
       "    .dataframe tbody tr th {\n",
       "        vertical-align: top;\n",
       "    }\n",
       "\n",
       "    .dataframe thead th {\n",
       "        text-align: right;\n",
       "    }\n",
       "</style>\n",
       "<table border=\"1\" class=\"dataframe\">\n",
       "  <thead>\n",
       "    <tr style=\"text-align: right;\">\n",
       "      <th></th>\n",
       "      <th>Unnamed: 0</th>\n",
       "      <th>Text_Language</th>\n",
       "      <th>Sentiment score</th>\n",
       "      <th>Post Length</th>\n",
       "      <th>Hashtag count</th>\n",
       "      <th>Content URL count</th>\n",
       "      <th>Tweet count</th>\n",
       "      <th>Followers count</th>\n",
       "      <th>Listed Count</th>\n",
       "      <th>Published DateTime</th>\n",
       "      <th>Mentions Count</th>\n",
       "      <th>Post author verified</th>\n",
       "      <th>Likes</th>\n",
       "      <th>Shares</th>\n",
       "      <th>Comments</th>\n",
       "      <th>Impact</th>\n",
       "      <th>Media Type_TEXT</th>\n",
       "      <th>Media Type_VIDEO</th>\n",
       "    </tr>\n",
       "  </thead>\n",
       "  <tbody>\n",
       "    <tr>\n",
       "      <th>0</th>\n",
       "      <td>0</td>\n",
       "      <td>16</td>\n",
       "      <td>0.0</td>\n",
       "      <td>17.0</td>\n",
       "      <td>0.0</td>\n",
       "      <td>0.0</td>\n",
       "      <td>1660.0</td>\n",
       "      <td>133.0</td>\n",
       "      <td>0</td>\n",
       "      <td>737818</td>\n",
       "      <td>0.0</td>\n",
       "      <td>0.0</td>\n",
       "      <td>0.0</td>\n",
       "      <td>0.0</td>\n",
       "      <td>0.0</td>\n",
       "      <td>0.0</td>\n",
       "      <td>1</td>\n",
       "      <td>0</td>\n",
       "    </tr>\n",
       "    <tr>\n",
       "      <th>1</th>\n",
       "      <td>1</td>\n",
       "      <td>37</td>\n",
       "      <td>19.3</td>\n",
       "      <td>84.0</td>\n",
       "      <td>0.0</td>\n",
       "      <td>1.0</td>\n",
       "      <td>318924.0</td>\n",
       "      <td>1428273.0</td>\n",
       "      <td>5454</td>\n",
       "      <td>737845</td>\n",
       "      <td>0.0</td>\n",
       "      <td>1.0</td>\n",
       "      <td>10.0</td>\n",
       "      <td>1.0</td>\n",
       "      <td>0.0</td>\n",
       "      <td>110.0</td>\n",
       "      <td>1</td>\n",
       "      <td>0</td>\n",
       "    </tr>\n",
       "    <tr>\n",
       "      <th>2</th>\n",
       "      <td>2</td>\n",
       "      <td>16</td>\n",
       "      <td>0.0</td>\n",
       "      <td>78.0</td>\n",
       "      <td>0.0</td>\n",
       "      <td>0.0</td>\n",
       "      <td>39976.0</td>\n",
       "      <td>1560.0</td>\n",
       "      <td>0</td>\n",
       "      <td>737683</td>\n",
       "      <td>0.0</td>\n",
       "      <td>0.0</td>\n",
       "      <td>0.0</td>\n",
       "      <td>0.0</td>\n",
       "      <td>0.0</td>\n",
       "      <td>0.0</td>\n",
       "      <td>1</td>\n",
       "      <td>0</td>\n",
       "    </tr>\n",
       "    <tr>\n",
       "      <th>3</th>\n",
       "      <td>3</td>\n",
       "      <td>78</td>\n",
       "      <td>0.0</td>\n",
       "      <td>284.0</td>\n",
       "      <td>2.0</td>\n",
       "      <td>0.0</td>\n",
       "      <td>8045.0</td>\n",
       "      <td>27191.0</td>\n",
       "      <td>26</td>\n",
       "      <td>737835</td>\n",
       "      <td>0.0</td>\n",
       "      <td>1.0</td>\n",
       "      <td>460.0</td>\n",
       "      <td>219.0</td>\n",
       "      <td>4.0</td>\n",
       "      <td>6830.0</td>\n",
       "      <td>1</td>\n",
       "      <td>0</td>\n",
       "    </tr>\n",
       "    <tr>\n",
       "      <th>4</th>\n",
       "      <td>4</td>\n",
       "      <td>37</td>\n",
       "      <td>-20.0</td>\n",
       "      <td>80.0</td>\n",
       "      <td>0.0</td>\n",
       "      <td>1.0</td>\n",
       "      <td>210996.0</td>\n",
       "      <td>2385.0</td>\n",
       "      <td>0</td>\n",
       "      <td>737610</td>\n",
       "      <td>0.0</td>\n",
       "      <td>0.0</td>\n",
       "      <td>0.0</td>\n",
       "      <td>0.0</td>\n",
       "      <td>0.0</td>\n",
       "      <td>0.0</td>\n",
       "      <td>0</td>\n",
       "      <td>0</td>\n",
       "    </tr>\n",
       "  </tbody>\n",
       "</table>\n",
       "</div>"
      ],
      "text/plain": [
       "   Unnamed: 0  Text_Language  ...  Media Type_TEXT  Media Type_VIDEO\n",
       "0           0             16  ...                1                 0\n",
       "1           1             37  ...                1                 0\n",
       "2           2             16  ...                1                 0\n",
       "3           3             78  ...                1                 0\n",
       "4           4             37  ...                0                 0\n",
       "\n",
       "[5 rows x 18 columns]"
      ]
     },
     "execution_count": 9,
     "metadata": {
      "tags": []
     },
     "output_type": "execute_result"
    }
   ],
   "source": [
    "url = 'https://github.com/Arv1ndrao/Twitter-Impact-prediction/blob/8f9ca9b14b05cf0bcac4a09862f590cd3b11040e/Twitter_clean.csv?raw=true'\n",
    "df = pd.read_csv(url)\n",
    "df.head()"
   ]
  },
  {
   "cell_type": "code",
   "execution_count": 10,
   "metadata": {
    "colab": {
     "base_uri": "https://localhost:8080/"
    },
    "id": "cWWhTvS709Pv",
    "outputId": "5d14bdff-179d-4f37-969b-84e0ca007f3a"
   },
   "outputs": [
    {
     "data": {
      "text/plain": [
       "Unnamed: 0                int64\n",
       "Text_Language             int64\n",
       "Sentiment score         float64\n",
       "Post Length             float64\n",
       "Hashtag count           float64\n",
       "Content URL count       float64\n",
       "Tweet count             float64\n",
       "Followers count         float64\n",
       "Listed Count              int64\n",
       "Published DateTime        int64\n",
       "Mentions Count          float64\n",
       "Post author verified    float64\n",
       "Likes                   float64\n",
       "Shares                  float64\n",
       "Comments                float64\n",
       "Impact                  float64\n",
       "Media Type_TEXT           int64\n",
       "Media Type_VIDEO          int64\n",
       "dtype: object"
      ]
     },
     "execution_count": 10,
     "metadata": {
      "tags": []
     },
     "output_type": "execute_result"
    }
   ],
   "source": [
    "df.dtypes"
   ]
  },
  {
   "cell_type": "code",
   "execution_count": 11,
   "metadata": {
    "colab": {
     "base_uri": "https://localhost:8080/"
    },
    "id": "Ph7S_F3R04y8",
    "outputId": "dc0a085a-9c6c-41bd-e592-02cf4889a0b4"
   },
   "outputs": [
    {
     "data": {
      "text/plain": [
       "(50000, 18)"
      ]
     },
     "execution_count": 11,
     "metadata": {
      "tags": []
     },
     "output_type": "execute_result"
    }
   ],
   "source": [
    "df.shape"
   ]
  },
  {
   "cell_type": "code",
   "execution_count": 12,
   "metadata": {
    "id": "WnOQqrZ01qEJ"
   },
   "outputs": [],
   "source": [
    "df.drop(\"Unnamed: 0\", axis=1, inplace=True)"
   ]
  },
  {
   "cell_type": "code",
   "execution_count": 13,
   "metadata": {
    "colab": {
     "base_uri": "https://localhost:8080/",
     "height": 221
    },
    "id": "YLd67V9T2Gxw",
    "outputId": "181d127b-28dd-41c9-a774-4de37eff1c34"
   },
   "outputs": [
    {
     "data": {
      "text/html": [
       "<div>\n",
       "<style scoped>\n",
       "    .dataframe tbody tr th:only-of-type {\n",
       "        vertical-align: middle;\n",
       "    }\n",
       "\n",
       "    .dataframe tbody tr th {\n",
       "        vertical-align: top;\n",
       "    }\n",
       "\n",
       "    .dataframe thead th {\n",
       "        text-align: right;\n",
       "    }\n",
       "</style>\n",
       "<table border=\"1\" class=\"dataframe\">\n",
       "  <thead>\n",
       "    <tr style=\"text-align: right;\">\n",
       "      <th></th>\n",
       "      <th>Text_Language</th>\n",
       "      <th>Sentiment score</th>\n",
       "      <th>Post Length</th>\n",
       "      <th>Hashtag count</th>\n",
       "      <th>Content URL count</th>\n",
       "      <th>Tweet count</th>\n",
       "      <th>Followers count</th>\n",
       "      <th>Listed Count</th>\n",
       "      <th>Published DateTime</th>\n",
       "      <th>Mentions Count</th>\n",
       "      <th>Post author verified</th>\n",
       "      <th>Likes</th>\n",
       "      <th>Shares</th>\n",
       "      <th>Comments</th>\n",
       "      <th>Impact</th>\n",
       "      <th>Media Type_TEXT</th>\n",
       "      <th>Media Type_VIDEO</th>\n",
       "    </tr>\n",
       "  </thead>\n",
       "  <tbody>\n",
       "    <tr>\n",
       "      <th>0</th>\n",
       "      <td>16</td>\n",
       "      <td>0.0</td>\n",
       "      <td>17.0</td>\n",
       "      <td>0.0</td>\n",
       "      <td>0.0</td>\n",
       "      <td>1660.0</td>\n",
       "      <td>133.0</td>\n",
       "      <td>0</td>\n",
       "      <td>737818</td>\n",
       "      <td>0.0</td>\n",
       "      <td>0.0</td>\n",
       "      <td>0.0</td>\n",
       "      <td>0.0</td>\n",
       "      <td>0.0</td>\n",
       "      <td>0.0</td>\n",
       "      <td>1</td>\n",
       "      <td>0</td>\n",
       "    </tr>\n",
       "    <tr>\n",
       "      <th>1</th>\n",
       "      <td>37</td>\n",
       "      <td>19.3</td>\n",
       "      <td>84.0</td>\n",
       "      <td>0.0</td>\n",
       "      <td>1.0</td>\n",
       "      <td>318924.0</td>\n",
       "      <td>1428273.0</td>\n",
       "      <td>5454</td>\n",
       "      <td>737845</td>\n",
       "      <td>0.0</td>\n",
       "      <td>1.0</td>\n",
       "      <td>10.0</td>\n",
       "      <td>1.0</td>\n",
       "      <td>0.0</td>\n",
       "      <td>110.0</td>\n",
       "      <td>1</td>\n",
       "      <td>0</td>\n",
       "    </tr>\n",
       "    <tr>\n",
       "      <th>2</th>\n",
       "      <td>16</td>\n",
       "      <td>0.0</td>\n",
       "      <td>78.0</td>\n",
       "      <td>0.0</td>\n",
       "      <td>0.0</td>\n",
       "      <td>39976.0</td>\n",
       "      <td>1560.0</td>\n",
       "      <td>0</td>\n",
       "      <td>737683</td>\n",
       "      <td>0.0</td>\n",
       "      <td>0.0</td>\n",
       "      <td>0.0</td>\n",
       "      <td>0.0</td>\n",
       "      <td>0.0</td>\n",
       "      <td>0.0</td>\n",
       "      <td>1</td>\n",
       "      <td>0</td>\n",
       "    </tr>\n",
       "    <tr>\n",
       "      <th>3</th>\n",
       "      <td>78</td>\n",
       "      <td>0.0</td>\n",
       "      <td>284.0</td>\n",
       "      <td>2.0</td>\n",
       "      <td>0.0</td>\n",
       "      <td>8045.0</td>\n",
       "      <td>27191.0</td>\n",
       "      <td>26</td>\n",
       "      <td>737835</td>\n",
       "      <td>0.0</td>\n",
       "      <td>1.0</td>\n",
       "      <td>460.0</td>\n",
       "      <td>219.0</td>\n",
       "      <td>4.0</td>\n",
       "      <td>6830.0</td>\n",
       "      <td>1</td>\n",
       "      <td>0</td>\n",
       "    </tr>\n",
       "    <tr>\n",
       "      <th>4</th>\n",
       "      <td>37</td>\n",
       "      <td>-20.0</td>\n",
       "      <td>80.0</td>\n",
       "      <td>0.0</td>\n",
       "      <td>1.0</td>\n",
       "      <td>210996.0</td>\n",
       "      <td>2385.0</td>\n",
       "      <td>0</td>\n",
       "      <td>737610</td>\n",
       "      <td>0.0</td>\n",
       "      <td>0.0</td>\n",
       "      <td>0.0</td>\n",
       "      <td>0.0</td>\n",
       "      <td>0.0</td>\n",
       "      <td>0.0</td>\n",
       "      <td>0</td>\n",
       "      <td>0</td>\n",
       "    </tr>\n",
       "  </tbody>\n",
       "</table>\n",
       "</div>"
      ],
      "text/plain": [
       "   Text_Language  Sentiment score  ...  Media Type_TEXT  Media Type_VIDEO\n",
       "0             16              0.0  ...                1                 0\n",
       "1             37             19.3  ...                1                 0\n",
       "2             16              0.0  ...                1                 0\n",
       "3             78              0.0  ...                1                 0\n",
       "4             37            -20.0  ...                0                 0\n",
       "\n",
       "[5 rows x 17 columns]"
      ]
     },
     "execution_count": 13,
     "metadata": {
      "tags": []
     },
     "output_type": "execute_result"
    }
   ],
   "source": [
    "df.head()"
   ]
  },
  {
   "cell_type": "code",
   "execution_count": 14,
   "metadata": {
    "id": "ZUeEHWDTrgMO"
   },
   "outputs": [],
   "source": [
    "X = df.drop(\"Impact\", axis=1)\n",
    "\n",
    "Y = df[\"Impact\"]\n",
    "x_train, x_test, y_train, y_test = train_test_split(X, Y, random_state=1, test_size = 0.30)"
   ]
  },
  {
   "cell_type": "code",
   "execution_count": 17,
   "metadata": {
    "id": "9pbgxsw5roaN"
   },
   "outputs": [],
   "source": [
    "scaler=StandardScaler()\n",
    "scaler.fit(x_train)\n",
    "\n",
    "X_train_scaled = scaler.transform(x_train)\n",
    "X_test_scaled = scaler.transform(x_test)"
   ]
  },
  {
   "cell_type": "code",
   "execution_count": 18,
   "metadata": {
    "id": "N1XPtmEM1SPK"
   },
   "outputs": [],
   "source": [
    "y_train = np.array(y_train).reshape(-1,1)\n",
    "y_test = np.array(y_test).reshape(-1,1)\n",
    "y_train_scaled = scaler.fit_transform(y_train)\n",
    "y_test_scaled = scaler.transform(y_test)"
   ]
  },
  {
   "cell_type": "code",
   "execution_count": 19,
   "metadata": {
    "colab": {
     "base_uri": "https://localhost:8080/"
    },
    "id": "MsrgIO5sry9G",
    "outputId": "519eb360-28ee-470b-913e-deca9115892e"
   },
   "outputs": [
    {
     "name": "stdout",
     "output_type": "stream",
     "text": [
      "Model: \"sequential\"\n",
      "_________________________________________________________________\n",
      "Layer (type)                 Output Shape              Param #   \n",
      "=================================================================\n",
      "dense (Dense)                (None, 128)               2176      \n",
      "_________________________________________________________________\n",
      "dense_1 (Dense)              (None, 64)                8256      \n",
      "_________________________________________________________________\n",
      "dense_2 (Dense)              (None, 1)                 65        \n",
      "=================================================================\n",
      "Total params: 10,497\n",
      "Trainable params: 10,497\n",
      "Non-trainable params: 0\n",
      "_________________________________________________________________\n",
      "Epoch 1/100\n",
      "875/875 [==============================] - 16s 2ms/step - loss: 0.0717 - mae: 0.1135 - val_loss: 0.0042 - val_mae: 0.0374\n",
      "Epoch 2/100\n",
      "875/875 [==============================] - 1s 1ms/step - loss: 0.0106 - mae: 0.0409 - val_loss: 0.0075 - val_mae: 0.0223\n",
      "Epoch 3/100\n",
      "875/875 [==============================] - 1s 2ms/step - loss: 0.0016 - mae: 0.0204 - val_loss: 5.4446e-04 - val_mae: 0.0157\n",
      "Epoch 4/100\n",
      "875/875 [==============================] - 1s 2ms/step - loss: 7.5922e-04 - mae: 0.0164 - val_loss: 7.2700e-04 - val_mae: 0.0169\n",
      "Epoch 5/100\n",
      "875/875 [==============================] - 1s 1ms/step - loss: 0.0014 - mae: 0.0175 - val_loss: 5.8340e-04 - val_mae: 0.0159\n",
      "Epoch 6/100\n",
      "875/875 [==============================] - 1s 2ms/step - loss: 0.0024 - mae: 0.0191 - val_loss: 0.0017 - val_mae: 0.0134\n",
      "Epoch 7/100\n",
      "875/875 [==============================] - 1s 1ms/step - loss: 0.0123 - mae: 0.0243 - val_loss: 7.2989e-04 - val_mae: 0.0117\n",
      "Epoch 8/100\n",
      "875/875 [==============================] - 1s 2ms/step - loss: 4.8680e-04 - mae: 0.0111 - val_loss: 6.3964e-04 - val_mae: 0.0091\n",
      "Epoch 9/100\n",
      "875/875 [==============================] - 1s 1ms/step - loss: 7.0997e-04 - mae: 0.0109 - val_loss: 3.7359e-04 - val_mae: 0.0083\n",
      "Epoch 10/100\n",
      "875/875 [==============================] - 1s 2ms/step - loss: 2.6671e-04 - mae: 0.0083 - val_loss: 3.4805e-04 - val_mae: 0.0115\n",
      "Epoch 11/100\n",
      "875/875 [==============================] - 1s 2ms/step - loss: 4.7969e-04 - mae: 0.0097 - val_loss: 0.0022 - val_mae: 0.0112\n",
      "Epoch 12/100\n",
      "875/875 [==============================] - 1s 2ms/step - loss: 6.5263e-04 - mae: 0.0106 - val_loss: 2.7089e-04 - val_mae: 0.0091\n",
      "Epoch 13/100\n",
      "875/875 [==============================] - 1s 2ms/step - loss: 1.9524e-04 - mae: 0.0072 - val_loss: 0.0011 - val_mae: 0.0129\n",
      "Epoch 14/100\n",
      "875/875 [==============================] - 1s 2ms/step - loss: 3.8839e-04 - mae: 0.0093 - val_loss: 3.5873e-04 - val_mae: 0.0080\n",
      "Epoch 15/100\n",
      "875/875 [==============================] - 1s 2ms/step - loss: 7.5099e-04 - mae: 0.0104 - val_loss: 1.3305e-04 - val_mae: 0.0056\n",
      "Epoch 16/100\n",
      "875/875 [==============================] - 1s 2ms/step - loss: 0.0010 - mae: 0.0102 - val_loss: 1.2108e-04 - val_mae: 0.0047\n",
      "Epoch 17/100\n",
      "875/875 [==============================] - 1s 1ms/step - loss: 1.5613e-04 - mae: 0.0058 - val_loss: 2.9187e-04 - val_mae: 0.0070\n",
      "Epoch 18/100\n",
      "875/875 [==============================] - 1s 1ms/step - loss: 4.2282e-04 - mae: 0.0076 - val_loss: 4.5424e-05 - val_mae: 0.0043\n",
      "Epoch 19/100\n",
      "875/875 [==============================] - 1s 1ms/step - loss: 1.4591e-04 - mae: 0.0048 - val_loss: 7.9122e-05 - val_mae: 0.0048\n",
      "Epoch 20/100\n",
      "875/875 [==============================] - 1s 2ms/step - loss: 2.3788e-04 - mae: 0.0066 - val_loss: 2.4672e-05 - val_mae: 0.0030\n",
      "Epoch 21/100\n",
      "875/875 [==============================] - 1s 1ms/step - loss: 8.0278e-04 - mae: 0.0076 - val_loss: 1.9182e-04 - val_mae: 0.0054\n",
      "Epoch 22/100\n",
      "875/875 [==============================] - 1s 2ms/step - loss: 1.8183e-04 - mae: 0.0056 - val_loss: 9.7444e-05 - val_mae: 0.0048\n",
      "Epoch 23/100\n",
      "875/875 [==============================] - 1s 1ms/step - loss: 3.2351e-04 - mae: 0.0059 - val_loss: 7.3557e-05 - val_mae: 0.0029\n",
      "Epoch 24/100\n",
      "875/875 [==============================] - 1s 1ms/step - loss: 1.9149e-04 - mae: 0.0050 - val_loss: 7.0436e-05 - val_mae: 0.0037\n",
      "Epoch 25/100\n",
      "875/875 [==============================] - 1s 1ms/step - loss: 9.3558e-05 - mae: 0.0041 - val_loss: 1.5012e-04 - val_mae: 0.0064\n",
      "Epoch 26/100\n",
      "875/875 [==============================] - 1s 2ms/step - loss: 3.6541e-04 - mae: 0.0065 - val_loss: 5.5489e-05 - val_mae: 0.0031\n",
      "Epoch 27/100\n",
      "875/875 [==============================] - 1s 2ms/step - loss: 1.7972e-04 - mae: 0.0043 - val_loss: 1.2020e-04 - val_mae: 0.0046\n",
      "Epoch 28/100\n",
      "875/875 [==============================] - 1s 1ms/step - loss: 2.9788e-04 - mae: 0.0062 - val_loss: 8.6155e-05 - val_mae: 0.0040\n",
      "Epoch 29/100\n",
      "875/875 [==============================] - 1s 2ms/step - loss: 1.5240e-04 - mae: 0.0052 - val_loss: 1.4981e-04 - val_mae: 0.0056\n",
      "Epoch 30/100\n",
      "875/875 [==============================] - 1s 2ms/step - loss: 3.3552e-04 - mae: 0.0065 - val_loss: 7.2530e-05 - val_mae: 0.0045\n",
      "Epoch 31/100\n",
      "875/875 [==============================] - 1s 2ms/step - loss: 9.8615e-05 - mae: 0.0042 - val_loss: 5.3890e-05 - val_mae: 0.0037\n",
      "Epoch 32/100\n",
      "875/875 [==============================] - 1s 2ms/step - loss: 1.2603e-04 - mae: 0.0043 - val_loss: 1.0868e-04 - val_mae: 0.0045\n",
      "Epoch 33/100\n",
      "875/875 [==============================] - 1s 2ms/step - loss: 4.6484e-04 - mae: 0.0063 - val_loss: 1.8093e-05 - val_mae: 0.0030\n",
      "Epoch 34/100\n",
      "875/875 [==============================] - 1s 2ms/step - loss: 3.2201e-04 - mae: 0.0039 - val_loss: 3.1334e-05 - val_mae: 0.0029\n",
      "Epoch 35/100\n",
      "875/875 [==============================] - 1s 1ms/step - loss: 1.0121e-04 - mae: 0.0036 - val_loss: 6.3419e-05 - val_mae: 0.0029\n",
      "Epoch 36/100\n",
      "875/875 [==============================] - 1s 2ms/step - loss: 1.1324e-04 - mae: 0.0040 - val_loss: 1.0034e-04 - val_mae: 0.0035\n",
      "Epoch 37/100\n",
      "875/875 [==============================] - 1s 2ms/step - loss: 7.0768e-05 - mae: 0.0034 - val_loss: 9.1979e-05 - val_mae: 0.0035\n",
      "Epoch 38/100\n",
      "875/875 [==============================] - 1s 2ms/step - loss: 3.1901e-04 - mae: 0.0059 - val_loss: 4.7439e-05 - val_mae: 0.0033\n",
      "Epoch 39/100\n",
      "875/875 [==============================] - 1s 1ms/step - loss: 1.6429e-04 - mae: 0.0044 - val_loss: 9.1685e-05 - val_mae: 0.0050\n",
      "Epoch 40/100\n",
      "875/875 [==============================] - 1s 2ms/step - loss: 4.9995e-05 - mae: 0.0031 - val_loss: 3.7078e-05 - val_mae: 0.0032\n",
      "Epoch 41/100\n",
      "875/875 [==============================] - 1s 2ms/step - loss: 6.5919e-05 - mae: 0.0034 - val_loss: 4.0856e-04 - val_mae: 0.0047\n",
      "Epoch 42/100\n",
      "875/875 [==============================] - 1s 2ms/step - loss: 3.8995e-04 - mae: 0.0067 - val_loss: 2.8530e-04 - val_mae: 0.0032\n",
      "Epoch 43/100\n",
      "875/875 [==============================] - 1s 1ms/step - loss: 4.7994e-04 - mae: 0.0056 - val_loss: 2.0495e-04 - val_mae: 0.0045\n",
      "Epoch 44/100\n",
      "875/875 [==============================] - 1s 1ms/step - loss: 2.8475e-04 - mae: 0.0059 - val_loss: 1.4985e-05 - val_mae: 0.0025\n",
      "Epoch 45/100\n",
      "875/875 [==============================] - 1s 2ms/step - loss: 3.3579e-05 - mae: 0.0026 - val_loss: 7.3897e-05 - val_mae: 0.0031\n",
      "Epoch 46/100\n",
      "875/875 [==============================] - 1s 1ms/step - loss: 2.3279e-04 - mae: 0.0059 - val_loss: 5.7817e-05 - val_mae: 0.0020\n",
      "Epoch 47/100\n",
      "875/875 [==============================] - 1s 1ms/step - loss: 7.4762e-05 - mae: 0.0036 - val_loss: 1.2440e-04 - val_mae: 0.0059\n",
      "Epoch 48/100\n",
      "875/875 [==============================] - 1s 1ms/step - loss: 6.2421e-05 - mae: 0.0032 - val_loss: 0.0014 - val_mae: 0.0117\n",
      "Epoch 49/100\n",
      "875/875 [==============================] - 1s 2ms/step - loss: 1.6010e-04 - mae: 0.0051 - val_loss: 3.8893e-04 - val_mae: 0.0079\n",
      "Epoch 50/100\n",
      "875/875 [==============================] - 1s 1ms/step - loss: 3.0357e-04 - mae: 0.0056 - val_loss: 3.0182e-05 - val_mae: 0.0017\n",
      "Epoch 51/100\n",
      "875/875 [==============================] - 1s 2ms/step - loss: 2.8699e-05 - mae: 0.0023 - val_loss: 1.3675e-05 - val_mae: 0.0018\n",
      "Epoch 52/100\n",
      "875/875 [==============================] - 1s 2ms/step - loss: 1.1179e-04 - mae: 0.0036 - val_loss: 2.9912e-05 - val_mae: 0.0018\n",
      "Epoch 53/100\n",
      "875/875 [==============================] - 1s 1ms/step - loss: 1.0838e-04 - mae: 0.0033 - val_loss: 2.6665e-05 - val_mae: 0.0023\n",
      "Epoch 54/100\n",
      "875/875 [==============================] - 1s 1ms/step - loss: 5.4115e-05 - mae: 0.0028 - val_loss: 5.5155e-04 - val_mae: 0.0090\n",
      "Epoch 55/100\n",
      "875/875 [==============================] - 1s 1ms/step - loss: 1.6763e-04 - mae: 0.0044 - val_loss: 7.1979e-05 - val_mae: 0.0034\n",
      "Epoch 56/100\n",
      "875/875 [==============================] - 1s 2ms/step - loss: 3.9760e-05 - mae: 0.0027 - val_loss: 1.1269e-05 - val_mae: 0.0017\n",
      "Epoch 57/100\n",
      "875/875 [==============================] - 1s 2ms/step - loss: 5.8385e-05 - mae: 0.0023 - val_loss: 6.0798e-05 - val_mae: 0.0050\n",
      "Epoch 58/100\n",
      "875/875 [==============================] - 1s 2ms/step - loss: 8.8371e-05 - mae: 0.0039 - val_loss: 2.5752e-05 - val_mae: 0.0022\n",
      "Epoch 59/100\n",
      "875/875 [==============================] - 1s 2ms/step - loss: 2.3004e-04 - mae: 0.0043 - val_loss: 8.1279e-05 - val_mae: 0.0035\n",
      "Epoch 60/100\n",
      "875/875 [==============================] - 1s 1ms/step - loss: 5.2700e-05 - mae: 0.0024 - val_loss: 3.9876e-05 - val_mae: 0.0013\n",
      "Epoch 61/100\n",
      "875/875 [==============================] - 1s 2ms/step - loss: 1.1478e-04 - mae: 0.0037 - val_loss: 2.4283e-04 - val_mae: 0.0063\n",
      "Epoch 62/100\n",
      "875/875 [==============================] - 1s 2ms/step - loss: 1.0168e-04 - mae: 0.0035 - val_loss: 1.2342e-05 - val_mae: 0.0018\n",
      "Epoch 63/100\n",
      "875/875 [==============================] - 1s 2ms/step - loss: 6.1176e-05 - mae: 0.0032 - val_loss: 1.9433e-05 - val_mae: 0.0022\n",
      "Epoch 64/100\n",
      "875/875 [==============================] - 1s 2ms/step - loss: 1.1374e-04 - mae: 0.0037 - val_loss: 2.8768e-05 - val_mae: 0.0028\n",
      "Epoch 65/100\n",
      "875/875 [==============================] - 1s 1ms/step - loss: 8.5536e-05 - mae: 0.0033 - val_loss: 1.3071e-05 - val_mae: 0.0015\n",
      "Epoch 66/100\n",
      "875/875 [==============================] - 1s 1ms/step - loss: 3.7721e-05 - mae: 0.0024 - val_loss: 2.2035e-05 - val_mae: 0.0023\n",
      "Epoch 67/100\n",
      "875/875 [==============================] - 1s 1ms/step - loss: 6.1029e-05 - mae: 0.0031 - val_loss: 4.0204e-05 - val_mae: 0.0033\n",
      "Epoch 68/100\n",
      "875/875 [==============================] - 1s 2ms/step - loss: 8.0146e-05 - mae: 0.0039 - val_loss: 0.0027 - val_mae: 0.0185\n",
      "Epoch 69/100\n",
      "875/875 [==============================] - 1s 2ms/step - loss: 0.0011 - mae: 0.0081 - val_loss: 2.3879e-05 - val_mae: 0.0014\n",
      "Epoch 70/100\n",
      "875/875 [==============================] - 1s 2ms/step - loss: 9.5472e-05 - mae: 0.0027 - val_loss: 8.2472e-05 - val_mae: 0.0036\n",
      "Epoch 71/100\n",
      "875/875 [==============================] - 1s 2ms/step - loss: 9.6811e-05 - mae: 0.0039 - val_loss: 2.8780e-05 - val_mae: 0.0021\n",
      "Epoch 72/100\n",
      "875/875 [==============================] - 1s 2ms/step - loss: 4.8095e-05 - mae: 0.0027 - val_loss: 3.4239e-04 - val_mae: 0.0050\n",
      "Epoch 73/100\n",
      "875/875 [==============================] - 1s 1ms/step - loss: 1.3864e-04 - mae: 0.0045 - val_loss: 6.4711e-06 - val_mae: 0.0010\n",
      "Epoch 74/100\n",
      "875/875 [==============================] - 1s 2ms/step - loss: 3.1350e-05 - mae: 0.0021 - val_loss: 4.2529e-05 - val_mae: 0.0026\n",
      "Epoch 75/100\n",
      "875/875 [==============================] - 1s 1ms/step - loss: 1.1913e-04 - mae: 0.0035 - val_loss: 1.5025e-04 - val_mae: 0.0049\n",
      "Epoch 76/100\n",
      "875/875 [==============================] - 1s 2ms/step - loss: 1.1757e-04 - mae: 0.0039 - val_loss: 5.1941e-05 - val_mae: 0.0047\n",
      "Epoch 77/100\n",
      "875/875 [==============================] - 1s 2ms/step - loss: 1.6644e-04 - mae: 0.0039 - val_loss: 7.7670e-04 - val_mae: 0.0065\n",
      "Epoch 78/100\n",
      "875/875 [==============================] - 1s 2ms/step - loss: 8.2870e-05 - mae: 0.0037 - val_loss: 1.0397e-04 - val_mae: 0.0047\n",
      "Epoch 79/100\n",
      "875/875 [==============================] - 1s 2ms/step - loss: 1.7929e-04 - mae: 0.0042 - val_loss: 2.2617e-05 - val_mae: 0.0016\n",
      "Epoch 80/100\n",
      "875/875 [==============================] - 1s 2ms/step - loss: 1.2456e-05 - mae: 0.0015 - val_loss: 7.1505e-06 - val_mae: 0.0012\n",
      "Epoch 81/100\n",
      "875/875 [==============================] - 1s 2ms/step - loss: 1.8548e-05 - mae: 0.0018 - val_loss: 2.9081e-05 - val_mae: 0.0019\n",
      "Epoch 82/100\n",
      "875/875 [==============================] - 1s 2ms/step - loss: 9.5616e-05 - mae: 0.0036 - val_loss: 9.8871e-05 - val_mae: 0.0020\n",
      "Epoch 83/100\n",
      "875/875 [==============================] - 1s 2ms/step - loss: 2.8534e-04 - mae: 0.0040 - val_loss: 5.9355e-06 - val_mae: 0.0012\n",
      "Epoch 84/100\n",
      "875/875 [==============================] - 1s 2ms/step - loss: 5.0749e-05 - mae: 0.0021 - val_loss: 1.1206e-04 - val_mae: 0.0014\n",
      "Epoch 85/100\n",
      "875/875 [==============================] - 1s 2ms/step - loss: 2.3591e-04 - mae: 0.0046 - val_loss: 4.4867e-05 - val_mae: 0.0025\n",
      "Epoch 86/100\n",
      "875/875 [==============================] - 1s 2ms/step - loss: 7.4239e-05 - mae: 0.0031 - val_loss: 2.8357e-05 - val_mae: 0.0023\n",
      "Epoch 87/100\n",
      "875/875 [==============================] - 1s 2ms/step - loss: 3.9086e-05 - mae: 0.0024 - val_loss: 1.2760e-04 - val_mae: 0.0045\n",
      "Epoch 88/100\n",
      "875/875 [==============================] - 1s 2ms/step - loss: 1.3916e-04 - mae: 0.0041 - val_loss: 8.7279e-06 - val_mae: 0.0012\n",
      "Epoch 89/100\n",
      "875/875 [==============================] - 1s 2ms/step - loss: 1.6815e-05 - mae: 0.0017 - val_loss: 3.4243e-05 - val_mae: 0.0015\n",
      "Epoch 90/100\n",
      "875/875 [==============================] - 1s 2ms/step - loss: 2.0862e-04 - mae: 0.0044 - val_loss: 1.9449e-05 - val_mae: 0.0027\n",
      "Epoch 91/100\n",
      "875/875 [==============================] - 1s 2ms/step - loss: 1.0950e-05 - mae: 0.0016 - val_loss: 2.6021e-05 - val_mae: 0.0017\n",
      "Epoch 92/100\n",
      "875/875 [==============================] - 1s 2ms/step - loss: 1.4248e-04 - mae: 0.0046 - val_loss: 1.8465e-05 - val_mae: 0.0010\n",
      "Epoch 93/100\n",
      "875/875 [==============================] - 1s 2ms/step - loss: 1.1687e-04 - mae: 0.0032 - val_loss: 5.3761e-06 - val_mae: 0.0014\n",
      "Epoch 94/100\n",
      "875/875 [==============================] - 1s 2ms/step - loss: 3.4840e-04 - mae: 0.0044 - val_loss: 3.7777e-05 - val_mae: 0.0019\n",
      "Epoch 95/100\n",
      "875/875 [==============================] - 1s 2ms/step - loss: 2.0865e-05 - mae: 0.0017 - val_loss: 5.6452e-04 - val_mae: 0.0080\n",
      "Epoch 96/100\n",
      "875/875 [==============================] - 1s 2ms/step - loss: 7.4348e-05 - mae: 0.0037 - val_loss: 7.1564e-06 - val_mae: 0.0016\n",
      "Epoch 97/100\n",
      "875/875 [==============================] - 1s 2ms/step - loss: 6.4120e-05 - mae: 0.0026 - val_loss: 1.0344e-04 - val_mae: 0.0037\n",
      "Epoch 98/100\n",
      "875/875 [==============================] - 1s 2ms/step - loss: 1.1913e-04 - mae: 0.0043 - val_loss: 6.6421e-05 - val_mae: 0.0043\n",
      "Epoch 99/100\n",
      "875/875 [==============================] - 1s 2ms/step - loss: 1.6504e-05 - mae: 0.0021 - val_loss: 1.7126e-05 - val_mae: 0.0026\n",
      "Epoch 100/100\n",
      "875/875 [==============================] - 1s 1ms/step - loss: 8.7911e-05 - mae: 0.0034 - val_loss: 8.6447e-06 - val_mae: 0.0011\n"
     ]
    }
   ],
   "source": [
    "model = Sequential()\n",
    "model.add(Dense(128, input_dim=16, activation='relu'))\n",
    "model.add(Dense(64, activation='relu'))\n",
    "#Output layer\n",
    "model.add(Dense(1, activation='linear'))\n",
    "\n",
    "model.compile(loss='mean_squared_error', optimizer='adam', metrics=['mae'])\n",
    "model.summary()\n",
    "\n",
    "history = model.fit(X_train_scaled, y_train_scaled, validation_split=0.2, epochs =100)\n"
   ]
  },
  {
   "cell_type": "code",
   "execution_count": 20,
   "metadata": {
    "colab": {
     "base_uri": "https://localhost:8080/",
     "height": 295
    },
    "id": "iJHpX9jxsxmA",
    "outputId": "acfa88a2-1043-4cf1-8a8a-a14918e53154"
   },
   "outputs": [
    {
     "data": {
      "image/png": "[encoded data removed]",
      "text/plain": [
       "<Figure size 432x288 with 1 Axes>"
      ]
     },
     "metadata": {
      "needs_background": "light",
      "tags": []
     },
     "output_type": "display_data"
    }
   ],
   "source": [
    "loss = history.history['loss']\n",
    "val_loss = history.history['val_loss']\n",
    "epochs = range(1, len(loss) + 1)\n",
    "plt.plot(epochs, loss, 'y', label='Training loss')\n",
    "plt.plot(epochs, val_loss, 'r', label='Validation loss')\n",
    "plt.title('Training and validation loss')\n",
    "plt.xlabel('Epochs')\n",
    "plt.ylabel('Loss')\n",
    "plt.legend()\n",
    "plt.show()"
   ]
  },
  {
   "cell_type": "code",
   "execution_count": 21,
   "metadata": {
    "colab": {
     "base_uri": "https://localhost:8080/",
     "height": 295
    },
    "id": "XG7PiIy9s3_n",
    "outputId": "b2af59c1-bd5d-46df-d4b6-0fb8e4cd48e2"
   },
   "outputs": [
    {
     "data": {
      "image/png": "[encoded data removed]",
      "text/plain": [
       "<Figure size 432x288 with 1 Axes>"
      ]
     },
     "metadata": {
      "needs_background": "light",
      "tags": []
     },
     "output_type": "display_data"
    }
   ],
   "source": [
    "acc = history.history['mae']\n",
    "val_acc = history.history['val_mae']\n",
    "plt.plot(epochs, acc, 'y', label='Training MAE')\n",
    "plt.plot(epochs, val_acc, 'r', label='Validation MAE')\n",
    "plt.title('Training and validation MAE')\n",
    "plt.xlabel('Epochs')\n",
    "plt.ylabel('Accuracy')\n",
    "plt.legend()\n",
    "plt.show()"
   ]
  },
  {
   "cell_type": "code",
   "execution_count": 22,
   "metadata": {
    "colab": {
     "base_uri": "https://localhost:8080/"
    },
    "id": "qIOMRfrLtJE2",
    "outputId": "586ef4d0-9e5d-4c35-96aa-e960665019b8"
   },
   "outputs": [
    {
     "name": "stdout",
     "output_type": "stream",
     "text": [
      "469/469 [==============================] - 0s 946us/step - loss: 8.2423e-06 - mae: 0.0011\n",
      "Mean squared error for test data from neural net:  8.24225389806088e-06\n",
      "Root Mean squared error for test data from neural net:  0.002870932583336098\n",
      "Mean absolute error for test data from neural net:  0.0011450444580987096\n"
     ]
    }
   ],
   "source": [
    "mse_test_neural, mae_test_neural = model.evaluate(X_test_scaled, y_test_scaled)\n",
    "print('Mean squared error for test data from neural net: ', mse_test_neural)\n",
    "print('Root Mean squared error for test data from neural net: ', np.sqrt(mse_test_neural))\n",
    "print('Mean absolute error for test data from neural net: ', mae_test_neural)"
   ]
  },
  {
   "cell_type": "code",
   "execution_count": 23,
   "metadata": {
    "colab": {
     "base_uri": "https://localhost:8080/"
    },
    "id": "NS5foOy3tY1O",
    "outputId": "f4456600-c07a-4e0e-c51d-7efdeed64b7f"
   },
   "outputs": [
    {
     "name": "stdout",
     "output_type": "stream",
     "text": [
      "1094/1094 [==============================] - 1s 906us/step - loss: 7.0084e-06 - mae: 0.0011\n",
      "Mean squared error for train data from neural net:  7.008407010289375e-06\n",
      "Root Mean squared error for train data from neural net:  0.0026473396099271763\n",
      "Mean absolute error from for train data neural net:  0.0011044074781239033\n"
     ]
    }
   ],
   "source": [
    "mse_train_neural, mae_train_neural = model.evaluate(X_train_scaled, y_train_scaled)\n",
    "print('Mean squared error for train data from neural net: ', mse_train_neural)\n",
    "print('Root Mean squared error for train data from neural net: ', np.sqrt(mse_train_neural))\n",
    "print('Mean absolute error from for train data neural net: ', mae_train_neural)"
   ]
  },
  {
   "cell_type": "code",
   "execution_count": 24,
   "metadata": {
    "id": "TTwzdDWH2WgK"
   },
   "outputs": [],
   "source": [
    "y_train_pred_nn = model.predict(X_train_scaled)\n",
    "y_test_pred_nn = model.predict(X_test_scaled)"
   ]
  },
  {
   "cell_type": "code",
   "execution_count": 25,
   "metadata": {
    "colab": {
     "base_uri": "https://localhost:8080/"
    },
    "id": "w2sGxzRs2eyT",
    "outputId": "189dd1eb-e3cb-4a91-edd7-5ad977d008a5"
   },
   "outputs": [
    {
     "name": "stdout",
     "output_type": "stream",
     "text": [
      "R sqaure value for train: 0.9999929915837098\n",
      "R sqaure value for test: 0.9999923974747551\n"
     ]
    }
   ],
   "source": [
    "from sklearn.metrics import r2_score\n",
    "print(\"R sqaure value for train:\", r2_score(y_train_scaled,y_train_pred_nn))\n",
    "print(\"R sqaure value for test:\", r2_score(y_test_scaled,y_test_pred_nn))"
   ]
  },
  {
   "cell_type": "code",
   "execution_count": 26,
   "metadata": {
    "colab": {
     "base_uri": "https://localhost:8080/",
     "height": 279
    },
    "id": "7seG8JRT8kW1",
    "outputId": "d33fcac6-ddb9-4022-9026-ba7124753430"
   },
   "outputs": [
    {
     "data": {
      "image/png": "[encoded data removed]",
      "text/plain": [
       "<Figure size 432x288 with 1 Axes>"
      ]
     },
     "metadata": {
      "needs_background": "light",
      "tags": []
     },
     "output_type": "display_data"
    }
   ],
   "source": [
    "sns.regplot(x = y_train_pred_nn, y=y_train_scaled, lowess = True, line_kws = {\"color\": \"red\"})\n",
    "plt.xlabel(\"Predicted values\")\n",
    "plt.ylabel(\"Actual values\")\n",
    "plt.show()"
   ]
  },
  {
   "cell_type": "code",
   "execution_count": 27,
   "metadata": {
    "colab": {
     "base_uri": "https://localhost:8080/",
     "height": 279
    },
    "id": "qqUNg9e02jzF",
    "outputId": "8bf4fd2e-d7c2-433e-defa-1870a20e40e1"
   },
   "outputs": [
    {
     "data": {
      "image/png": "[encoded data removed]",
      "text/plain": [
       "<Figure size 432x288 with 1 Axes>"
      ]
     },
     "metadata": {
      "needs_background": "light",
      "tags": []
     },
     "output_type": "display_data"
    }
   ],
   "source": [
    "sns.regplot(x = y_test_pred_nn, y=y_test_scaled, lowess = True, line_kws = {\"color\": \"red\"})\n",
    "plt.xlabel(\"Predicted values\")\n",
    "plt.ylabel(\"Actual values\")\n",
    "plt.show()"
   ]
  }
 ],
 "metadata": {
  "colab": {
   "collapsed_sections": [],
   "name": "Neural network.ipynb",
   "provenance": []
  },
  "kernelspec": {
   "display_name": "Python 3",
   "language": "python",
   "name": "python3"
  },
  "language_info": {
   "codemirror_mode": {
    "name": "ipython",
    "version": 3
   },
   "file_extension": ".py",
   "mimetype": "text/x-python",
   "name": "python",
   "nbconvert_exporter": "python",
   "pygments_lexer": "ipython3",
   "version": "3.8.8"
  }
 },
 "nbformat": 4,
 "nbformat_minor": 1
}
